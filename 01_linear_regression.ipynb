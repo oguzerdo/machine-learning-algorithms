{
 "cells": [
  {
   "cell_type": "code",
   "execution_count": 2,
   "metadata": {},
   "outputs": [],
   "source": [
    "import numpy as np\n",
    "import pandas as pd\n",
    "import matplotlib.pyplot as plt\n",
    "import seaborn as sns\n",
    "\n",
    "pd.set_option('display.float_format', lambda x: '%.2f' % x)\n",
    "\n",
    "from sklearn.linear_model import LinearRegression\n",
    "from sklearn.metrics import mean_squared_error, mean_absolute_error\n",
    "from sklearn.model_selection import train_test_split, cross_val_score"
   ]
  },
  {
   "cell_type": "markdown",
   "metadata": {},
   "source": [
    "# Simple Linear Regression with OLS Using Scikit-Learn"
   ]
  },
  {
   "cell_type": "code",
   "execution_count": 6,
   "metadata": {},
   "outputs": [
    {
     "data": {
      "text/html": [
       "<div>\n",
       "<style scoped>\n",
       "    .dataframe tbody tr th:only-of-type {\n",
       "        vertical-align: middle;\n",
       "    }\n",
       "\n",
       "    .dataframe tbody tr th {\n",
       "        vertical-align: top;\n",
       "    }\n",
       "\n",
       "    .dataframe thead th {\n",
       "        text-align: right;\n",
       "    }\n",
       "</style>\n",
       "<table border=\"1\" class=\"dataframe\">\n",
       "  <thead>\n",
       "    <tr style=\"text-align: right;\">\n",
       "      <th></th>\n",
       "      <th>TV</th>\n",
       "      <th>radio</th>\n",
       "      <th>newspaper</th>\n",
       "      <th>sales</th>\n",
       "    </tr>\n",
       "  </thead>\n",
       "  <tbody>\n",
       "    <tr>\n",
       "      <th>0</th>\n",
       "      <td>230.10</td>\n",
       "      <td>37.80</td>\n",
       "      <td>69.20</td>\n",
       "      <td>22.10</td>\n",
       "    </tr>\n",
       "    <tr>\n",
       "      <th>1</th>\n",
       "      <td>44.50</td>\n",
       "      <td>39.30</td>\n",
       "      <td>45.10</td>\n",
       "      <td>10.40</td>\n",
       "    </tr>\n",
       "    <tr>\n",
       "      <th>2</th>\n",
       "      <td>17.20</td>\n",
       "      <td>45.90</td>\n",
       "      <td>69.30</td>\n",
       "      <td>9.30</td>\n",
       "    </tr>\n",
       "    <tr>\n",
       "      <th>3</th>\n",
       "      <td>151.50</td>\n",
       "      <td>41.30</td>\n",
       "      <td>58.50</td>\n",
       "      <td>18.50</td>\n",
       "    </tr>\n",
       "    <tr>\n",
       "      <th>4</th>\n",
       "      <td>180.80</td>\n",
       "      <td>10.80</td>\n",
       "      <td>58.40</td>\n",
       "      <td>12.90</td>\n",
       "    </tr>\n",
       "  </tbody>\n",
       "</table>\n",
       "</div>"
      ],
      "text/plain": [
       "      TV  radio  newspaper  sales\n",
       "0 230.10  37.80      69.20  22.10\n",
       "1  44.50  39.30      45.10  10.40\n",
       "2  17.20  45.90      69.30   9.30\n",
       "3 151.50  41.30      58.50  18.50\n",
       "4 180.80  10.80      58.40  12.90"
      ]
     },
     "execution_count": 6,
     "metadata": {},
     "output_type": "execute_result"
    }
   ],
   "source": [
    "df = pd.read_csv(\"datasets/advertising.csv\")\n",
    "df.head()"
   ]
  },
  {
   "cell_type": "code",
   "execution_count": 9,
   "metadata": {},
   "outputs": [
    {
     "data": {
      "text/plain": [
       "(200, 4)"
      ]
     },
     "execution_count": 9,
     "metadata": {},
     "output_type": "execute_result"
    }
   ],
   "source": [
    "df.shape"
   ]
  },
  {
   "cell_type": "code",
   "execution_count": 8,
   "metadata": {},
   "outputs": [],
   "source": [
    "X = df[[\"TV\"]]\n",
    "y = df[[\"sales\"]]"
   ]
  },
  {
   "cell_type": "code",
   "execution_count": 31,
   "metadata": {},
   "outputs": [],
   "source": [
    "### Model"
   ]
  },
  {
   "cell_type": "code",
   "execution_count": 32,
   "metadata": {},
   "outputs": [],
   "source": [
    "reg_model = LinearRegression().fit(X, y)"
   ]
  },
  {
   "cell_type": "markdown",
   "metadata": {},
   "source": [
    "y_hat = b + w*TV"
   ]
  },
  {
   "cell_type": "code",
   "execution_count": 12,
   "metadata": {},
   "outputs": [
    {
     "data": {
      "text/plain": [
       "7.0325935491276885"
      ]
     },
     "execution_count": 12,
     "metadata": {},
     "output_type": "execute_result"
    }
   ],
   "source": [
    "# sabit (b - bias)\n",
    "reg_model.intercept_[0]"
   ]
  },
  {
   "cell_type": "code",
   "execution_count": 13,
   "metadata": {},
   "outputs": [
    {
     "data": {
      "text/plain": [
       "0.04753664043301979"
      ]
     },
     "execution_count": 13,
     "metadata": {},
     "output_type": "execute_result"
    }
   ],
   "source": [
    "# tv'nin katsayısı (w1)\n",
    "reg_model.coef_[0][0]"
   ]
  },
  {
   "cell_type": "markdown",
   "metadata": {},
   "source": [
    "### Tahmin"
   ]
  },
  {
   "cell_type": "code",
   "execution_count": 16,
   "metadata": {},
   "outputs": [
    {
     "data": {
      "text/plain": [
       "14.163089614080658"
      ]
     },
     "execution_count": 16,
     "metadata": {},
     "output_type": "execute_result"
    }
   ],
   "source": [
    "# 150 birimlik TV harcaması olsa ne kadar satış olması beklenir?\n",
    "\n",
    "reg_model.intercept_[0] + reg_model.coef_[0][0]*150"
   ]
  },
  {
   "cell_type": "code",
   "execution_count": 17,
   "metadata": {},
   "outputs": [
    {
     "data": {
      "text/plain": [
       "30.800913765637585"
      ]
     },
     "execution_count": 17,
     "metadata": {},
     "output_type": "execute_result"
    }
   ],
   "source": [
    "# 500 birimlik tv harcaması olsa ne kadar satış olur?\n",
    "\n",
    "reg_model.intercept_[0] + reg_model.coef_[0][0]*500"
   ]
  },
  {
   "cell_type": "code",
   "execution_count": 18,
   "metadata": {},
   "outputs": [
    {
     "data": {
      "text/html": [
       "<div>\n",
       "<style scoped>\n",
       "    .dataframe tbody tr th:only-of-type {\n",
       "        vertical-align: middle;\n",
       "    }\n",
       "\n",
       "    .dataframe tbody tr th {\n",
       "        vertical-align: top;\n",
       "    }\n",
       "\n",
       "    .dataframe thead th {\n",
       "        text-align: right;\n",
       "    }\n",
       "</style>\n",
       "<table border=\"1\" class=\"dataframe\">\n",
       "  <thead>\n",
       "    <tr style=\"text-align: right;\">\n",
       "      <th></th>\n",
       "      <th>count</th>\n",
       "      <th>mean</th>\n",
       "      <th>std</th>\n",
       "      <th>min</th>\n",
       "      <th>25%</th>\n",
       "      <th>50%</th>\n",
       "      <th>75%</th>\n",
       "      <th>max</th>\n",
       "    </tr>\n",
       "  </thead>\n",
       "  <tbody>\n",
       "    <tr>\n",
       "      <th>TV</th>\n",
       "      <td>200.00</td>\n",
       "      <td>147.04</td>\n",
       "      <td>85.85</td>\n",
       "      <td>0.70</td>\n",
       "      <td>74.38</td>\n",
       "      <td>149.75</td>\n",
       "      <td>218.82</td>\n",
       "      <td>296.40</td>\n",
       "    </tr>\n",
       "    <tr>\n",
       "      <th>radio</th>\n",
       "      <td>200.00</td>\n",
       "      <td>23.26</td>\n",
       "      <td>14.85</td>\n",
       "      <td>0.00</td>\n",
       "      <td>9.97</td>\n",
       "      <td>22.90</td>\n",
       "      <td>36.52</td>\n",
       "      <td>49.60</td>\n",
       "    </tr>\n",
       "    <tr>\n",
       "      <th>newspaper</th>\n",
       "      <td>200.00</td>\n",
       "      <td>30.55</td>\n",
       "      <td>21.78</td>\n",
       "      <td>0.30</td>\n",
       "      <td>12.75</td>\n",
       "      <td>25.75</td>\n",
       "      <td>45.10</td>\n",
       "      <td>114.00</td>\n",
       "    </tr>\n",
       "    <tr>\n",
       "      <th>sales</th>\n",
       "      <td>200.00</td>\n",
       "      <td>14.02</td>\n",
       "      <td>5.22</td>\n",
       "      <td>1.60</td>\n",
       "      <td>10.38</td>\n",
       "      <td>12.90</td>\n",
       "      <td>17.40</td>\n",
       "      <td>27.00</td>\n",
       "    </tr>\n",
       "  </tbody>\n",
       "</table>\n",
       "</div>"
      ],
      "text/plain": [
       "           count   mean   std  min   25%    50%    75%    max\n",
       "TV        200.00 147.04 85.85 0.70 74.38 149.75 218.82 296.40\n",
       "radio     200.00  23.26 14.85 0.00  9.97  22.90  36.52  49.60\n",
       "newspaper 200.00  30.55 21.78 0.30 12.75  25.75  45.10 114.00\n",
       "sales     200.00  14.02  5.22 1.60 10.38  12.90  17.40  27.00"
      ]
     },
     "execution_count": 18,
     "metadata": {},
     "output_type": "execute_result"
    }
   ],
   "source": [
    "df.describe().T"
   ]
  },
  {
   "cell_type": "code",
   "execution_count": 21,
   "metadata": {},
   "outputs": [
    {
     "data": {
      "image/png": "[encoded data removed]",
      "text/plain": [
       "<Figure size 640x480 with 1 Axes>"
      ]
     },
     "metadata": {},
     "output_type": "display_data"
    }
   ],
   "source": [
    "# Modelin Görselleştirilmesi\n",
    "g = sns.regplot(x=X, y=y, scatter_kws={'color': 'b', 's': 9},\n",
    "                ci=False, color=\"r\")\n",
    "g.set_title(f\"Model Denklemi: Sales = {round(reg_model.intercept_[0], 2)} + TV*{round(reg_model.coef_[0][0], 2)}\")\n",
    "g.set_ylabel(\"Satış Sayısı\")\n",
    "g.set_xlabel(\"TV Harcamaları\")\n",
    "plt.xlim(-10, 310)\n",
    "plt.ylim(bottom=0)\n",
    "plt.show();"
   ]
  },
  {
   "cell_type": "markdown",
   "metadata": {},
   "source": [
    "### Tahmin Başarısı"
   ]
  },
  {
   "cell_type": "code",
   "execution_count": 23,
   "metadata": {},
   "outputs": [
    {
     "data": {
      "text/plain": [
       "10.512652915656757"
      ]
     },
     "execution_count": 23,
     "metadata": {},
     "output_type": "execute_result"
    }
   ],
   "source": [
    "y_pred = reg_model.predict(X)\n",
    "mean_squared_error(y, y_pred)"
   ]
  },
  {
   "cell_type": "code",
   "execution_count": 27,
   "metadata": {},
   "outputs": [
    {
     "name": "stdout",
     "output_type": "stream",
     "text": [
      "Mean: 14.022500000000003\n",
      "Std: 5.217456565710477\n"
     ]
    }
   ],
   "source": [
    "print('Mean:', y.mean()[0])\n",
    "print('Std:',y.std()[0])"
   ]
  },
  {
   "cell_type": "code",
   "execution_count": 28,
   "metadata": {},
   "outputs": [
    {
     "data": {
      "text/plain": [
       "3.2423221486546887"
      ]
     },
     "execution_count": 28,
     "metadata": {},
     "output_type": "execute_result"
    }
   ],
   "source": [
    "# RMSE\n",
    "np.sqrt(mean_squared_error(y, y_pred))"
   ]
  },
  {
   "cell_type": "code",
   "execution_count": 29,
   "metadata": {},
   "outputs": [
    {
     "data": {
      "text/plain": [
       "2.549806038927486"
      ]
     },
     "execution_count": 29,
     "metadata": {},
     "output_type": "execute_result"
    }
   ],
   "source": [
    "# MAE\n",
    "mean_absolute_error(y, y_pred)"
   ]
  },
  {
   "cell_type": "code",
   "execution_count": 30,
   "metadata": {},
   "outputs": [
    {
     "data": {
      "text/plain": [
       "0.611875050850071"
      ]
     },
     "execution_count": 30,
     "metadata": {},
     "output_type": "execute_result"
    }
   ],
   "source": [
    "# R-KARE\n",
    "reg_model.score(X, y)"
   ]
  },
  {
   "cell_type": "markdown",
   "metadata": {},
   "source": [
    "# Multiple Linear Regression"
   ]
  },
  {
   "cell_type": "code",
   "execution_count": 34,
   "metadata": {},
   "outputs": [],
   "source": [
    "df = pd.read_csv(\"datasets/advertising.csv\")\n",
    "X = df.drop('sales', axis=1)\n",
    "y = df[[\"sales\"]]"
   ]
  },
  {
   "cell_type": "markdown",
   "metadata": {},
   "source": [
    "### Model"
   ]
  },
  {
   "cell_type": "code",
   "execution_count": 36,
   "metadata": {},
   "outputs": [],
   "source": [
    "X_train, X_test, y_train, y_test = train_test_split(X, y, test_size=0.20, random_state=1)"
   ]
  },
  {
   "cell_type": "code",
   "execution_count": 38,
   "metadata": {},
   "outputs": [
    {
     "name": "stdout",
     "output_type": "stream",
     "text": [
      "Test Size: (40, 1)\n",
      "Train Size: (160, 1)\n"
     ]
    }
   ],
   "source": [
    "print('Test Size:', y_test.shape)\n",
    "print('Train Size:',y_train.shape)"
   ]
  },
  {
   "cell_type": "code",
   "execution_count": 39,
   "metadata": {},
   "outputs": [],
   "source": [
    "reg_model = LinearRegression().fit(X_train, y_train)"
   ]
  },
  {
   "cell_type": "code",
   "execution_count": 40,
   "metadata": {},
   "outputs": [
    {
     "data": {
      "text/plain": [
       "array([2.90794702])"
      ]
     },
     "execution_count": 40,
     "metadata": {},
     "output_type": "execute_result"
    }
   ],
   "source": [
    "# sabit (b - bias)\n",
    "reg_model.intercept_"
   ]
  },
  {
   "cell_type": "code",
   "execution_count": 41,
   "metadata": {},
   "outputs": [
    {
     "data": {
      "text/plain": [
       "array([[0.0468431 , 0.17854434, 0.00258619]])"
      ]
     },
     "execution_count": 41,
     "metadata": {},
     "output_type": "execute_result"
    }
   ],
   "source": [
    "# coefficients (w - weights)\n",
    "reg_model.coef_"
   ]
  },
  {
   "cell_type": "markdown",
   "metadata": {},
   "source": [
    "### Tahmin"
   ]
  },
  {
   "cell_type": "markdown",
   "metadata": {},
   "source": [
    "Aşağıdaki gözlem değerlerine göre satışın beklenen değeri nedir?\n",
    "\n",
    "- TV = 30\n",
    "- Radio = 10\n",
    "- Newspaper = 40"
   ]
  },
  {
   "cell_type": "markdown",
   "metadata": {},
   "source": [
    "---\n",
    "2.90\n",
    "\n",
    "0.0468431 , 0.17854434, 0.00258619\n",
    "\n",
    "Sales = 2.90  + TV * 0.04 + radio * 0.17 + newspaper * 0.002"
   ]
  },
  {
   "cell_type": "code",
   "execution_count": 44,
   "metadata": {},
   "outputs": [
    {
     "data": {
      "text/plain": [
       "6.20213102"
      ]
     },
     "execution_count": 44,
     "metadata": {},
     "output_type": "execute_result"
    }
   ],
   "source": [
    "2.90794702 + 30 * 0.0468431 + 10 * 0.17854434 + 40 * 0.00258619"
   ]
  },
  {
   "cell_type": "code",
   "execution_count": 45,
   "metadata": {},
   "outputs": [],
   "source": [
    "yeni_veri = [[30], [10], [40]]\n",
    "yeni_veri = pd.DataFrame(yeni_veri).T"
   ]
  },
  {
   "cell_type": "code",
   "execution_count": 46,
   "metadata": {},
   "outputs": [
    {
     "name": "stderr",
     "output_type": "stream",
     "text": [
      "/Users/oe/miniconda3/envs/dsprojects/lib/python3.9/site-packages/sklearn/base.py:450: UserWarning: X does not have valid feature names, but LinearRegression was fitted with feature names\n",
      "  warnings.warn(\n"
     ]
    },
    {
     "data": {
      "text/plain": [
       "array([[6.202131]])"
      ]
     },
     "execution_count": 46,
     "metadata": {},
     "output_type": "execute_result"
    }
   ],
   "source": [
    "reg_model.predict(yeni_veri)"
   ]
  },
  {
   "cell_type": "markdown",
   "metadata": {},
   "source": [
    "### Tahmin Başarısını Değerlendirme"
   ]
  },
  {
   "cell_type": "code",
   "execution_count": 48,
   "metadata": {},
   "outputs": [
    {
     "data": {
      "text/plain": [
       "1.7369025901470923"
      ]
     },
     "execution_count": 48,
     "metadata": {},
     "output_type": "execute_result"
    }
   ],
   "source": [
    "# Train RMSE\n",
    "y_pred = reg_model.predict(X_train)\n",
    "np.sqrt(mean_squared_error(y_train, y_pred))"
   ]
  },
  {
   "cell_type": "code",
   "execution_count": 52,
   "metadata": {},
   "outputs": [
    {
     "data": {
      "text/plain": [
       "1.4113417558581567"
      ]
     },
     "execution_count": 52,
     "metadata": {},
     "output_type": "execute_result"
    }
   ],
   "source": [
    "# Test RMSE\n",
    "y_pred = reg_model.predict(X_test)\n",
    "np.sqrt(mean_squared_error(y_test, y_pred))"
   ]
  },
  {
   "cell_type": "code",
   "execution_count": 53,
   "metadata": {},
   "outputs": [
    {
     "data": {
      "text/plain": [
       "0.8959372632325174"
      ]
     },
     "execution_count": 53,
     "metadata": {},
     "output_type": "execute_result"
    }
   ],
   "source": [
    "# TRAIN RKARE\n",
    "reg_model.score(X_train, y_train)"
   ]
  },
  {
   "cell_type": "code",
   "execution_count": 51,
   "metadata": {},
   "outputs": [
    {
     "data": {
      "text/plain": [
       "0.8927605914615386"
      ]
     },
     "execution_count": 51,
     "metadata": {},
     "output_type": "execute_result"
    }
   ],
   "source": [
    "# Test RKARE\n",
    "reg_model.score(X_test, y_test)"
   ]
  },
  {
   "cell_type": "code",
   "execution_count": 54,
   "metadata": {},
   "outputs": [
    {
     "data": {
      "text/plain": [
       "1.6913531708051799"
      ]
     },
     "execution_count": 54,
     "metadata": {},
     "output_type": "execute_result"
    }
   ],
   "source": [
    "# 10 Katlı CV RMSE\n",
    "np.mean(np.sqrt(-cross_val_score(reg_model,\n",
    "                                 X,\n",
    "                                 y,\n",
    "                                 cv=10,\n",
    "                                 scoring=\"neg_mean_squared_error\")))"
   ]
  },
  {
   "cell_type": "code",
   "execution_count": 55,
   "metadata": {},
   "outputs": [
    {
     "data": {
      "text/plain": [
       "1.717524727873208"
      ]
     },
     "execution_count": 55,
     "metadata": {},
     "output_type": "execute_result"
    }
   ],
   "source": [
    "# 5 Katlı CV RMSE\n",
    "np.mean(np.sqrt(-cross_val_score(reg_model,\n",
    "                                 X,\n",
    "                                 y,\n",
    "                                 cv=5,\n",
    "                                 scoring=\"neg_mean_squared_error\")))"
   ]
  },
  {
   "cell_type": "markdown",
   "metadata": {},
   "source": [
    "# Simple Linear Regression with Gradient Descent from Scratch"
   ]
  },
  {
   "cell_type": "code",
   "execution_count": 57,
   "metadata": {},
   "outputs": [],
   "source": [
    "# Cost function MSE\n",
    "def cost_function(Y, b, w, X):\n",
    "    m = len(Y)\n",
    "    sse = 0\n",
    "\n",
    "    for i in range(0, m):\n",
    "        y_hat = b + w * X[i]\n",
    "        y = Y[i]\n",
    "        sse += (y_hat - y) ** 2\n",
    "\n",
    "    mse = sse / m\n",
    "    return mse"
   ]
  },
  {
   "cell_type": "code",
   "execution_count": 58,
   "metadata": {},
   "outputs": [],
   "source": [
    "# update_weights\n",
    "def update_weights(Y, b, w, X, learning_rate):\n",
    "    m = len(Y)\n",
    "    b_deriv_sum = 0\n",
    "    w_deriv_sum = 0\n",
    "    for i in range(0, m):\n",
    "        y_hat = b + w * X[i]\n",
    "        y = Y[i]\n",
    "        b_deriv_sum += (y_hat - y)\n",
    "        w_deriv_sum += (y_hat - y) * X[i]\n",
    "    new_b = b - (learning_rate * 1 / m * b_deriv_sum)\n",
    "    new_w = w - (learning_rate * 1 / m * w_deriv_sum)\n",
    "    return new_b, new_w"
   ]
  },
  {
   "cell_type": "code",
   "execution_count": 59,
   "metadata": {},
   "outputs": [],
   "source": [
    "# train fonksiyonu\n",
    "def train(Y, initial_b, initial_w, X, learning_rate, num_iters):\n",
    "\n",
    "    print(\"Starting gradient descent at b = {0}, w = {1}, mse = {2}\".format(initial_b, initial_w,\n",
    "                                                                   cost_function(Y, initial_b, initial_w, X)))\n",
    "\n",
    "    b = initial_b\n",
    "    w = initial_w\n",
    "    cost_history = []\n",
    "\n",
    "    for i in range(num_iters):\n",
    "        b, w = update_weights(Y, b, w, X, learning_rate)\n",
    "        mse = cost_function(Y, b, w, X)\n",
    "        cost_history.append(mse)\n",
    "\n",
    "\n",
    "        if i % 100 == 0:\n",
    "            print(\"iter={:d}    b={:.2f}    w={:.4f}    mse={:.4}\".format(i, b, w, mse))\n",
    "\n",
    "\n",
    "    print(\"After {0} iterations b = {1}, w = {2}, mse = {3}\".format(num_iters, b, w, cost_function(Y, b, w, X)))\n",
    "    return cost_history, b, w"
   ]
  },
  {
   "cell_type": "code",
   "execution_count": 61,
   "metadata": {},
   "outputs": [],
   "source": [
    "df = pd.read_csv(\"datasets/advertising.csv\")"
   ]
  },
  {
   "cell_type": "code",
   "execution_count": 62,
   "metadata": {},
   "outputs": [],
   "source": [
    "X = df[\"radio\"]\n",
    "Y = df[\"sales\"]"
   ]
  },
  {
   "cell_type": "code",
   "execution_count": 63,
   "metadata": {},
   "outputs": [
    {
     "name": "stdout",
     "output_type": "stream",
     "text": [
      "Starting gradient descent at b = 0.001, w = 0.001, mse = 222.9477491673001\n",
      "iter=0    b=0.01    w=0.3708    mse=53.25\n",
      "iter=100    b=0.28    w=0.4788    mse=41.6\n",
      "iter=200    b=0.54    w=0.4709    mse=40.29\n",
      "iter=300    b=0.79    w=0.4633    mse=39.04\n",
      "iter=400    b=1.03    w=0.4559    mse=37.87\n",
      "iter=500    b=1.27    w=0.4487    mse=36.76\n",
      "iter=600    b=1.49    w=0.4417    mse=35.72\n",
      "iter=700    b=1.72    w=0.4349    mse=34.73\n",
      "iter=800    b=1.93    w=0.4283    mse=33.8\n",
      "iter=900    b=2.14    w=0.4219    mse=32.92\n",
      "iter=1000    b=2.35    w=0.4157    mse=32.09\n",
      "iter=1100    b=2.54    w=0.4096    mse=31.3\n",
      "iter=1200    b=2.74    w=0.4037    mse=30.56\n",
      "iter=1300    b=2.92    w=0.3980    mse=29.87\n",
      "iter=1400    b=3.10    w=0.3925    mse=29.21\n",
      "iter=1500    b=3.28    w=0.3871    mse=28.58\n",
      "iter=1600    b=3.45    w=0.3818    mse=28.0\n",
      "iter=1700    b=3.62    w=0.3767    mse=27.44\n",
      "iter=1800    b=3.78    w=0.3718    mse=26.92\n",
      "iter=1900    b=3.94    w=0.3670    mse=26.42\n",
      "iter=2000    b=4.09    w=0.3623    mse=25.96\n",
      "iter=2100    b=4.24    w=0.3578    mse=25.52\n",
      "iter=2200    b=4.38    w=0.3534    mse=25.1\n",
      "iter=2300    b=4.52    w=0.3491    mse=24.71\n",
      "iter=2400    b=4.66    w=0.3449    mse=24.34\n",
      "iter=2500    b=4.79    w=0.3409    mse=23.99\n",
      "iter=2600    b=4.92    w=0.3369    mse=23.66\n",
      "iter=2700    b=5.04    w=0.3331    mse=23.35\n",
      "iter=2800    b=5.16    w=0.3294    mse=23.05\n",
      "iter=2900    b=5.28    w=0.3258    mse=22.77\n",
      "iter=3000    b=5.40    w=0.3223    mse=22.51\n",
      "iter=3100    b=5.51    w=0.3189    mse=22.26\n",
      "iter=3200    b=5.62    w=0.3156    mse=22.03\n",
      "iter=3300    b=5.72    w=0.3124    mse=21.81\n",
      "iter=3400    b=5.82    w=0.3093    mse=21.6\n",
      "iter=3500    b=5.92    w=0.3062    mse=21.41\n",
      "iter=3600    b=6.02    w=0.3033    mse=21.22\n",
      "iter=3700    b=6.11    w=0.3004    mse=21.05\n",
      "iter=3800    b=6.20    w=0.2976    mse=20.88\n",
      "iter=3900    b=6.29    w=0.2949    mse=20.72\n",
      "iter=4000    b=6.38    w=0.2923    mse=20.58\n",
      "iter=4100    b=6.46    w=0.2898    mse=20.44\n",
      "iter=4200    b=6.54    w=0.2873    mse=20.31\n",
      "iter=4300    b=6.62    w=0.2849    mse=20.18\n",
      "iter=4400    b=6.70    w=0.2825    mse=20.06\n",
      "iter=4500    b=6.77    w=0.2803    mse=19.95\n",
      "iter=4600    b=6.84    w=0.2780    mse=19.85\n",
      "iter=4700    b=6.91    w=0.2759    mse=19.75\n",
      "iter=4800    b=6.98    w=0.2738    mse=19.66\n",
      "iter=4900    b=7.05    w=0.2718    mse=19.57\n",
      "iter=5000    b=7.11    w=0.2698    mse=19.49\n",
      "iter=5100    b=7.17    w=0.2679    mse=19.41\n",
      "iter=5200    b=7.23    w=0.2660    mse=19.34\n",
      "iter=5300    b=7.29    w=0.2642    mse=19.27\n",
      "iter=5400    b=7.35    w=0.2625    mse=19.2\n",
      "iter=5500    b=7.41    w=0.2608    mse=19.14\n",
      "iter=5600    b=7.46    w=0.2591    mse=19.08\n",
      "iter=5700    b=7.51    w=0.2575    mse=19.02\n",
      "iter=5800    b=7.56    w=0.2560    mse=18.97\n",
      "iter=5900    b=7.61    w=0.2544    mse=18.92\n",
      "iter=6000    b=7.66    w=0.2530    mse=18.88\n",
      "iter=6100    b=7.71    w=0.2515    mse=18.83\n",
      "iter=6200    b=7.75    w=0.2501    mse=18.79\n",
      "iter=6300    b=7.80    w=0.2488    mse=18.75\n",
      "iter=6400    b=7.84    w=0.2475    mse=18.72\n",
      "iter=6500    b=7.88    w=0.2462    mse=18.68\n",
      "iter=6600    b=7.92    w=0.2450    mse=18.65\n",
      "iter=6700    b=7.96    w=0.2437    mse=18.62\n",
      "iter=6800    b=8.00    w=0.2426    mse=18.59\n",
      "iter=6900    b=8.04    w=0.2414    mse=18.56\n",
      "iter=7000    b=8.08    w=0.2403    mse=18.53\n",
      "iter=7100    b=8.11    w=0.2393    mse=18.51\n",
      "iter=7200    b=8.14    w=0.2382    mse=18.49\n",
      "iter=7300    b=8.18    w=0.2372    mse=18.46\n",
      "iter=7400    b=8.21    w=0.2362    mse=18.44\n",
      "iter=7500    b=8.24    w=0.2353    mse=18.42\n",
      "iter=7600    b=8.27    w=0.2343    mse=18.4\n",
      "iter=7700    b=8.30    w=0.2334    mse=18.39\n",
      "iter=7800    b=8.33    w=0.2325    mse=18.37\n",
      "iter=7900    b=8.36    w=0.2317    mse=18.35\n",
      "iter=8000    b=8.38    w=0.2309    mse=18.34\n",
      "iter=8100    b=8.41    w=0.2301    mse=18.33\n",
      "iter=8200    b=8.44    w=0.2293    mse=18.31\n",
      "iter=8300    b=8.46    w=0.2285    mse=18.3\n",
      "iter=8400    b=8.49    w=0.2278    mse=18.29\n",
      "iter=8500    b=8.51    w=0.2271    mse=18.28\n",
      "iter=8600    b=8.53    w=0.2264    mse=18.27\n",
      "iter=8700    b=8.55    w=0.2257    mse=18.26\n",
      "iter=8800    b=8.58    w=0.2250    mse=18.25\n",
      "iter=8900    b=8.60    w=0.2244    mse=18.24\n",
      "iter=9000    b=8.62    w=0.2238    mse=18.23\n",
      "iter=9100    b=8.64    w=0.2232    mse=18.22\n",
      "iter=9200    b=8.66    w=0.2226    mse=18.22\n",
      "iter=9300    b=8.67    w=0.2220    mse=18.21\n",
      "iter=9400    b=8.69    w=0.2214    mse=18.2\n",
      "iter=9500    b=8.71    w=0.2209    mse=18.2\n",
      "iter=9600    b=8.73    w=0.2204    mse=18.19\n",
      "iter=9700    b=8.74    w=0.2199    mse=18.19\n",
      "iter=9800    b=8.76    w=0.2194    mse=18.18\n",
      "iter=9900    b=8.78    w=0.2189    mse=18.18\n",
      "iter=10000    b=8.79    w=0.2184    mse=18.17\n",
      "iter=10100    b=8.81    w=0.2180    mse=18.17\n",
      "iter=10200    b=8.82    w=0.2175    mse=18.16\n",
      "iter=10300    b=8.83    w=0.2171    mse=18.16\n",
      "iter=10400    b=8.85    w=0.2167    mse=18.15\n",
      "iter=10500    b=8.86    w=0.2163    mse=18.15\n",
      "iter=10600    b=8.87    w=0.2159    mse=18.15\n",
      "iter=10700    b=8.89    w=0.2155    mse=18.14\n",
      "iter=10800    b=8.90    w=0.2152    mse=18.14\n",
      "iter=10900    b=8.91    w=0.2148    mse=18.14\n",
      "iter=11000    b=8.92    w=0.2144    mse=18.14\n",
      "iter=11100    b=8.93    w=0.2141    mse=18.13\n",
      "iter=11200    b=8.94    w=0.2138    mse=18.13\n",
      "iter=11300    b=8.95    w=0.2135    mse=18.13\n",
      "iter=11400    b=8.96    w=0.2131    mse=18.13\n",
      "iter=11500    b=8.97    w=0.2128    mse=18.13\n",
      "iter=11600    b=8.98    w=0.2125    mse=18.12\n",
      "iter=11700    b=8.99    w=0.2123    mse=18.12\n",
      "iter=11800    b=9.00    w=0.2120    mse=18.12\n",
      "iter=11900    b=9.01    w=0.2117    mse=18.12\n",
      "iter=12000    b=9.02    w=0.2115    mse=18.12\n",
      "iter=12100    b=9.03    w=0.2112    mse=18.12\n",
      "iter=12200    b=9.04    w=0.2110    mse=18.11\n",
      "iter=12300    b=9.04    w=0.2107    mse=18.11\n",
      "iter=12400    b=9.05    w=0.2105    mse=18.11\n",
      "iter=12500    b=9.06    w=0.2103    mse=18.11\n",
      "iter=12600    b=9.07    w=0.2100    mse=18.11\n",
      "iter=12700    b=9.07    w=0.2098    mse=18.11\n",
      "iter=12800    b=9.08    w=0.2096    mse=18.11\n",
      "iter=12900    b=9.09    w=0.2094    mse=18.11\n",
      "iter=13000    b=9.09    w=0.2092    mse=18.11\n",
      "iter=13100    b=9.10    w=0.2090    mse=18.11\n",
      "iter=13200    b=9.10    w=0.2088    mse=18.1\n",
      "iter=13300    b=9.11    w=0.2087    mse=18.1\n",
      "iter=13400    b=9.12    w=0.2085    mse=18.1\n",
      "iter=13500    b=9.12    w=0.2083    mse=18.1\n",
      "iter=13600    b=9.13    w=0.2081    mse=18.1\n",
      "iter=13700    b=9.13    w=0.2080    mse=18.1\n",
      "iter=13800    b=9.14    w=0.2078    mse=18.1\n",
      "iter=13900    b=9.14    w=0.2077    mse=18.1\n",
      "iter=14000    b=9.15    w=0.2075    mse=18.1\n",
      "iter=14100    b=9.15    w=0.2074    mse=18.1\n",
      "iter=14200    b=9.16    w=0.2072    mse=18.1\n",
      "iter=14300    b=9.16    w=0.2071    mse=18.1\n",
      "iter=14400    b=9.17    w=0.2070    mse=18.1\n",
      "iter=14500    b=9.17    w=0.2069    mse=18.1\n",
      "iter=14600    b=9.17    w=0.2067    mse=18.1\n",
      "iter=14700    b=9.18    w=0.2066    mse=18.1\n",
      "iter=14800    b=9.18    w=0.2065    mse=18.1\n",
      "iter=14900    b=9.18    w=0.2064    mse=18.1\n",
      "iter=15000    b=9.19    w=0.2063    mse=18.1\n",
      "iter=15100    b=9.19    w=0.2062    mse=18.1\n",
      "iter=15200    b=9.20    w=0.2061    mse=18.1\n",
      "iter=15300    b=9.20    w=0.2060    mse=18.1\n",
      "iter=15400    b=9.20    w=0.2059    mse=18.1\n",
      "iter=15500    b=9.20    w=0.2058    mse=18.1\n",
      "iter=15600    b=9.21    w=0.2057    mse=18.1\n",
      "iter=15700    b=9.21    w=0.2056    mse=18.1\n",
      "iter=15800    b=9.21    w=0.2055    mse=18.1\n",
      "iter=15900    b=9.22    w=0.2054    mse=18.1\n",
      "iter=16000    b=9.22    w=0.2053    mse=18.09\n",
      "iter=16100    b=9.22    w=0.2052    mse=18.09\n",
      "iter=16200    b=9.22    w=0.2052    mse=18.09\n",
      "iter=16300    b=9.23    w=0.2051    mse=18.09\n",
      "iter=16400    b=9.23    w=0.2050    mse=18.09\n",
      "iter=16500    b=9.23    w=0.2049    mse=18.09\n",
      "iter=16600    b=9.23    w=0.2049    mse=18.09\n",
      "iter=16700    b=9.24    w=0.2048    mse=18.09\n",
      "iter=16800    b=9.24    w=0.2047    mse=18.09\n",
      "iter=16900    b=9.24    w=0.2047    mse=18.09\n",
      "iter=17000    b=9.24    w=0.2046    mse=18.09\n",
      "iter=17100    b=9.24    w=0.2046    mse=18.09\n",
      "iter=17200    b=9.25    w=0.2045    mse=18.09\n",
      "iter=17300    b=9.25    w=0.2044    mse=18.09\n",
      "iter=17400    b=9.25    w=0.2044    mse=18.09\n",
      "iter=17500    b=9.25    w=0.2043    mse=18.09\n",
      "iter=17600    b=9.25    w=0.2043    mse=18.09\n",
      "iter=17700    b=9.25    w=0.2042    mse=18.09\n",
      "iter=17800    b=9.26    w=0.2042    mse=18.09\n",
      "iter=17900    b=9.26    w=0.2041    mse=18.09\n",
      "iter=18000    b=9.26    w=0.2041    mse=18.09\n",
      "iter=18100    b=9.26    w=0.2040    mse=18.09\n",
      "iter=18200    b=9.26    w=0.2040    mse=18.09\n",
      "iter=18300    b=9.26    w=0.2040    mse=18.09\n",
      "iter=18400    b=9.27    w=0.2039    mse=18.09\n",
      "iter=18500    b=9.27    w=0.2039    mse=18.09\n",
      "iter=18600    b=9.27    w=0.2038    mse=18.09\n",
      "iter=18700    b=9.27    w=0.2038    mse=18.09\n",
      "iter=18800    b=9.27    w=0.2038    mse=18.09\n",
      "iter=18900    b=9.27    w=0.2037    mse=18.09\n",
      "iter=19000    b=9.27    w=0.2037    mse=18.09\n",
      "iter=19100    b=9.27    w=0.2037    mse=18.09\n",
      "iter=19200    b=9.27    w=0.2036    mse=18.09\n",
      "iter=19300    b=9.28    w=0.2036    mse=18.09\n",
      "iter=19400    b=9.28    w=0.2036    mse=18.09\n",
      "iter=19500    b=9.28    w=0.2035    mse=18.09\n",
      "iter=19600    b=9.28    w=0.2035    mse=18.09\n",
      "iter=19700    b=9.28    w=0.2035    mse=18.09\n",
      "iter=19800    b=9.28    w=0.2034    mse=18.09\n",
      "iter=19900    b=9.28    w=0.2034    mse=18.09\n",
      "iter=20000    b=9.28    w=0.2034    mse=18.09\n",
      "iter=20100    b=9.28    w=0.2034    mse=18.09\n",
      "iter=20200    b=9.28    w=0.2033    mse=18.09\n",
      "iter=20300    b=9.28    w=0.2033    mse=18.09\n",
      "iter=20400    b=9.29    w=0.2033    mse=18.09\n",
      "iter=20500    b=9.29    w=0.2033    mse=18.09\n",
      "iter=20600    b=9.29    w=0.2032    mse=18.09\n",
      "iter=20700    b=9.29    w=0.2032    mse=18.09\n",
      "iter=20800    b=9.29    w=0.2032    mse=18.09\n",
      "iter=20900    b=9.29    w=0.2032    mse=18.09\n",
      "iter=21000    b=9.29    w=0.2032    mse=18.09\n",
      "iter=21100    b=9.29    w=0.2031    mse=18.09\n",
      "iter=21200    b=9.29    w=0.2031    mse=18.09\n",
      "iter=21300    b=9.29    w=0.2031    mse=18.09\n",
      "iter=21400    b=9.29    w=0.2031    mse=18.09\n",
      "iter=21500    b=9.29    w=0.2031    mse=18.09\n",
      "iter=21600    b=9.29    w=0.2031    mse=18.09\n",
      "iter=21700    b=9.29    w=0.2030    mse=18.09\n",
      "iter=21800    b=9.29    w=0.2030    mse=18.09\n",
      "iter=21900    b=9.29    w=0.2030    mse=18.09\n",
      "iter=22000    b=9.30    w=0.2030    mse=18.09\n",
      "iter=22100    b=9.30    w=0.2030    mse=18.09\n",
      "iter=22200    b=9.30    w=0.2030    mse=18.09\n",
      "iter=22300    b=9.30    w=0.2030    mse=18.09\n",
      "iter=22400    b=9.30    w=0.2029    mse=18.09\n",
      "iter=22500    b=9.30    w=0.2029    mse=18.09\n",
      "iter=22600    b=9.30    w=0.2029    mse=18.09\n",
      "iter=22700    b=9.30    w=0.2029    mse=18.09\n",
      "iter=22800    b=9.30    w=0.2029    mse=18.09\n",
      "iter=22900    b=9.30    w=0.2029    mse=18.09\n",
      "iter=23000    b=9.30    w=0.2029    mse=18.09\n",
      "iter=23100    b=9.30    w=0.2029    mse=18.09\n",
      "iter=23200    b=9.30    w=0.2029    mse=18.09\n",
      "iter=23300    b=9.30    w=0.2028    mse=18.09\n",
      "iter=23400    b=9.30    w=0.2028    mse=18.09\n",
      "iter=23500    b=9.30    w=0.2028    mse=18.09\n",
      "iter=23600    b=9.30    w=0.2028    mse=18.09\n",
      "iter=23700    b=9.30    w=0.2028    mse=18.09\n",
      "iter=23800    b=9.30    w=0.2028    mse=18.09\n",
      "iter=23900    b=9.30    w=0.2028    mse=18.09\n",
      "iter=24000    b=9.30    w=0.2028    mse=18.09\n",
      "iter=24100    b=9.30    w=0.2028    mse=18.09\n",
      "iter=24200    b=9.30    w=0.2028    mse=18.09\n",
      "iter=24300    b=9.30    w=0.2028    mse=18.09\n",
      "iter=24400    b=9.30    w=0.2027    mse=18.09\n",
      "iter=24500    b=9.30    w=0.2027    mse=18.09\n",
      "iter=24600    b=9.30    w=0.2027    mse=18.09\n",
      "iter=24700    b=9.30    w=0.2027    mse=18.09\n",
      "iter=24800    b=9.30    w=0.2027    mse=18.09\n",
      "iter=24900    b=9.30    w=0.2027    mse=18.09\n",
      "iter=25000    b=9.30    w=0.2027    mse=18.09\n",
      "iter=25100    b=9.30    w=0.2027    mse=18.09\n",
      "iter=25200    b=9.31    w=0.2027    mse=18.09\n",
      "iter=25300    b=9.31    w=0.2027    mse=18.09\n",
      "iter=25400    b=9.31    w=0.2027    mse=18.09\n",
      "iter=25500    b=9.31    w=0.2027    mse=18.09\n",
      "iter=25600    b=9.31    w=0.2027    mse=18.09\n",
      "iter=25700    b=9.31    w=0.2027    mse=18.09\n",
      "iter=25800    b=9.31    w=0.2027    mse=18.09\n",
      "iter=25900    b=9.31    w=0.2027    mse=18.09\n",
      "iter=26000    b=9.31    w=0.2027    mse=18.09\n",
      "iter=26100    b=9.31    w=0.2026    mse=18.09\n",
      "iter=26200    b=9.31    w=0.2026    mse=18.09\n",
      "iter=26300    b=9.31    w=0.2026    mse=18.09\n",
      "iter=26400    b=9.31    w=0.2026    mse=18.09\n",
      "iter=26500    b=9.31    w=0.2026    mse=18.09\n",
      "iter=26600    b=9.31    w=0.2026    mse=18.09\n",
      "iter=26700    b=9.31    w=0.2026    mse=18.09\n",
      "iter=26800    b=9.31    w=0.2026    mse=18.09\n",
      "iter=26900    b=9.31    w=0.2026    mse=18.09\n",
      "iter=27000    b=9.31    w=0.2026    mse=18.09\n",
      "iter=27100    b=9.31    w=0.2026    mse=18.09\n",
      "iter=27200    b=9.31    w=0.2026    mse=18.09\n",
      "iter=27300    b=9.31    w=0.2026    mse=18.09\n",
      "iter=27400    b=9.31    w=0.2026    mse=18.09\n",
      "iter=27500    b=9.31    w=0.2026    mse=18.09\n",
      "iter=27600    b=9.31    w=0.2026    mse=18.09\n",
      "iter=27700    b=9.31    w=0.2026    mse=18.09\n",
      "iter=27800    b=9.31    w=0.2026    mse=18.09\n",
      "iter=27900    b=9.31    w=0.2026    mse=18.09\n",
      "iter=28000    b=9.31    w=0.2026    mse=18.09\n",
      "iter=28100    b=9.31    w=0.2026    mse=18.09\n",
      "iter=28200    b=9.31    w=0.2026    mse=18.09\n",
      "iter=28300    b=9.31    w=0.2026    mse=18.09\n",
      "iter=28400    b=9.31    w=0.2026    mse=18.09\n",
      "iter=28500    b=9.31    w=0.2026    mse=18.09\n",
      "iter=28600    b=9.31    w=0.2026    mse=18.09\n",
      "iter=28700    b=9.31    w=0.2026    mse=18.09\n",
      "iter=28800    b=9.31    w=0.2026    mse=18.09\n",
      "iter=28900    b=9.31    w=0.2026    mse=18.09\n",
      "iter=29000    b=9.31    w=0.2026    mse=18.09\n",
      "iter=29100    b=9.31    w=0.2026    mse=18.09\n",
      "iter=29200    b=9.31    w=0.2026    mse=18.09\n",
      "iter=29300    b=9.31    w=0.2026    mse=18.09\n",
      "iter=29400    b=9.31    w=0.2026    mse=18.09\n",
      "iter=29500    b=9.31    w=0.2026    mse=18.09\n",
      "iter=29600    b=9.31    w=0.2026    mse=18.09\n",
      "iter=29700    b=9.31    w=0.2026    mse=18.09\n",
      "iter=29800    b=9.31    w=0.2025    mse=18.09\n",
      "iter=29900    b=9.31    w=0.2025    mse=18.09\n",
      "iter=30000    b=9.31    w=0.2025    mse=18.09\n",
      "iter=30100    b=9.31    w=0.2025    mse=18.09\n",
      "iter=30200    b=9.31    w=0.2025    mse=18.09\n",
      "iter=30300    b=9.31    w=0.2025    mse=18.09\n",
      "iter=30400    b=9.31    w=0.2025    mse=18.09\n",
      "iter=30500    b=9.31    w=0.2025    mse=18.09\n",
      "iter=30600    b=9.31    w=0.2025    mse=18.09\n",
      "iter=30700    b=9.31    w=0.2025    mse=18.09\n",
      "iter=30800    b=9.31    w=0.2025    mse=18.09\n",
      "iter=30900    b=9.31    w=0.2025    mse=18.09\n",
      "iter=31000    b=9.31    w=0.2025    mse=18.09\n",
      "iter=31100    b=9.31    w=0.2025    mse=18.09\n",
      "iter=31200    b=9.31    w=0.2025    mse=18.09\n",
      "iter=31300    b=9.31    w=0.2025    mse=18.09\n",
      "iter=31400    b=9.31    w=0.2025    mse=18.09\n",
      "iter=31500    b=9.31    w=0.2025    mse=18.09\n",
      "iter=31600    b=9.31    w=0.2025    mse=18.09\n",
      "iter=31700    b=9.31    w=0.2025    mse=18.09\n",
      "iter=31800    b=9.31    w=0.2025    mse=18.09\n",
      "iter=31900    b=9.31    w=0.2025    mse=18.09\n",
      "iter=32000    b=9.31    w=0.2025    mse=18.09\n",
      "iter=32100    b=9.31    w=0.2025    mse=18.09\n",
      "iter=32200    b=9.31    w=0.2025    mse=18.09\n",
      "iter=32300    b=9.31    w=0.2025    mse=18.09\n",
      "iter=32400    b=9.31    w=0.2025    mse=18.09\n",
      "iter=32500    b=9.31    w=0.2025    mse=18.09\n",
      "iter=32600    b=9.31    w=0.2025    mse=18.09\n",
      "iter=32700    b=9.31    w=0.2025    mse=18.09\n",
      "iter=32800    b=9.31    w=0.2025    mse=18.09\n",
      "iter=32900    b=9.31    w=0.2025    mse=18.09\n",
      "iter=33000    b=9.31    w=0.2025    mse=18.09\n",
      "iter=33100    b=9.31    w=0.2025    mse=18.09\n",
      "iter=33200    b=9.31    w=0.2025    mse=18.09\n",
      "iter=33300    b=9.31    w=0.2025    mse=18.09\n",
      "iter=33400    b=9.31    w=0.2025    mse=18.09\n",
      "iter=33500    b=9.31    w=0.2025    mse=18.09\n",
      "iter=33600    b=9.31    w=0.2025    mse=18.09\n",
      "iter=33700    b=9.31    w=0.2025    mse=18.09\n",
      "iter=33800    b=9.31    w=0.2025    mse=18.09\n",
      "iter=33900    b=9.31    w=0.2025    mse=18.09\n",
      "iter=34000    b=9.31    w=0.2025    mse=18.09\n",
      "iter=34100    b=9.31    w=0.2025    mse=18.09\n",
      "iter=34200    b=9.31    w=0.2025    mse=18.09\n",
      "iter=34300    b=9.31    w=0.2025    mse=18.09\n",
      "iter=34400    b=9.31    w=0.2025    mse=18.09\n",
      "iter=34500    b=9.31    w=0.2025    mse=18.09\n",
      "iter=34600    b=9.31    w=0.2025    mse=18.09\n",
      "iter=34700    b=9.31    w=0.2025    mse=18.09\n",
      "iter=34800    b=9.31    w=0.2025    mse=18.09\n",
      "iter=34900    b=9.31    w=0.2025    mse=18.09\n",
      "iter=35000    b=9.31    w=0.2025    mse=18.09\n",
      "iter=35100    b=9.31    w=0.2025    mse=18.09\n",
      "iter=35200    b=9.31    w=0.2025    mse=18.09\n",
      "iter=35300    b=9.31    w=0.2025    mse=18.09\n",
      "iter=35400    b=9.31    w=0.2025    mse=18.09\n",
      "iter=35500    b=9.31    w=0.2025    mse=18.09\n",
      "iter=35600    b=9.31    w=0.2025    mse=18.09\n",
      "iter=35700    b=9.31    w=0.2025    mse=18.09\n",
      "iter=35800    b=9.31    w=0.2025    mse=18.09\n",
      "iter=35900    b=9.31    w=0.2025    mse=18.09\n",
      "iter=36000    b=9.31    w=0.2025    mse=18.09\n",
      "iter=36100    b=9.31    w=0.2025    mse=18.09\n",
      "iter=36200    b=9.31    w=0.2025    mse=18.09\n",
      "iter=36300    b=9.31    w=0.2025    mse=18.09\n",
      "iter=36400    b=9.31    w=0.2025    mse=18.09\n",
      "iter=36500    b=9.31    w=0.2025    mse=18.09\n",
      "iter=36600    b=9.31    w=0.2025    mse=18.09\n",
      "iter=36700    b=9.31    w=0.2025    mse=18.09\n",
      "iter=36800    b=9.31    w=0.2025    mse=18.09\n",
      "iter=36900    b=9.31    w=0.2025    mse=18.09\n",
      "iter=37000    b=9.31    w=0.2025    mse=18.09\n",
      "iter=37100    b=9.31    w=0.2025    mse=18.09\n",
      "iter=37200    b=9.31    w=0.2025    mse=18.09\n",
      "iter=37300    b=9.31    w=0.2025    mse=18.09\n",
      "iter=37400    b=9.31    w=0.2025    mse=18.09\n",
      "iter=37500    b=9.31    w=0.2025    mse=18.09\n",
      "iter=37600    b=9.31    w=0.2025    mse=18.09\n",
      "iter=37700    b=9.31    w=0.2025    mse=18.09\n",
      "iter=37800    b=9.31    w=0.2025    mse=18.09\n",
      "iter=37900    b=9.31    w=0.2025    mse=18.09\n",
      "iter=38000    b=9.31    w=0.2025    mse=18.09\n",
      "iter=38100    b=9.31    w=0.2025    mse=18.09\n",
      "iter=38200    b=9.31    w=0.2025    mse=18.09\n",
      "iter=38300    b=9.31    w=0.2025    mse=18.09\n",
      "iter=38400    b=9.31    w=0.2025    mse=18.09\n",
      "iter=38500    b=9.31    w=0.2025    mse=18.09\n",
      "iter=38600    b=9.31    w=0.2025    mse=18.09\n",
      "iter=38700    b=9.31    w=0.2025    mse=18.09\n",
      "iter=38800    b=9.31    w=0.2025    mse=18.09\n",
      "iter=38900    b=9.31    w=0.2025    mse=18.09\n",
      "iter=39000    b=9.31    w=0.2025    mse=18.09\n",
      "iter=39100    b=9.31    w=0.2025    mse=18.09\n",
      "iter=39200    b=9.31    w=0.2025    mse=18.09\n",
      "iter=39300    b=9.31    w=0.2025    mse=18.09\n",
      "iter=39400    b=9.31    w=0.2025    mse=18.09\n",
      "iter=39500    b=9.31    w=0.2025    mse=18.09\n",
      "iter=39600    b=9.31    w=0.2025    mse=18.09\n",
      "iter=39700    b=9.31    w=0.2025    mse=18.09\n",
      "iter=39800    b=9.31    w=0.2025    mse=18.09\n",
      "iter=39900    b=9.31    w=0.2025    mse=18.09\n",
      "iter=40000    b=9.31    w=0.2025    mse=18.09\n",
      "iter=40100    b=9.31    w=0.2025    mse=18.09\n",
      "iter=40200    b=9.31    w=0.2025    mse=18.09\n",
      "iter=40300    b=9.31    w=0.2025    mse=18.09\n",
      "iter=40400    b=9.31    w=0.2025    mse=18.09\n",
      "iter=40500    b=9.31    w=0.2025    mse=18.09\n",
      "iter=40600    b=9.31    w=0.2025    mse=18.09\n",
      "iter=40700    b=9.31    w=0.2025    mse=18.09\n",
      "iter=40800    b=9.31    w=0.2025    mse=18.09\n",
      "iter=40900    b=9.31    w=0.2025    mse=18.09\n",
      "iter=41000    b=9.31    w=0.2025    mse=18.09\n",
      "iter=41100    b=9.31    w=0.2025    mse=18.09\n",
      "iter=41200    b=9.31    w=0.2025    mse=18.09\n",
      "iter=41300    b=9.31    w=0.2025    mse=18.09\n",
      "iter=41400    b=9.31    w=0.2025    mse=18.09\n",
      "iter=41500    b=9.31    w=0.2025    mse=18.09\n",
      "iter=41600    b=9.31    w=0.2025    mse=18.09\n",
      "iter=41700    b=9.31    w=0.2025    mse=18.09\n",
      "iter=41800    b=9.31    w=0.2025    mse=18.09\n",
      "iter=41900    b=9.31    w=0.2025    mse=18.09\n",
      "iter=42000    b=9.31    w=0.2025    mse=18.09\n",
      "iter=42100    b=9.31    w=0.2025    mse=18.09\n",
      "iter=42200    b=9.31    w=0.2025    mse=18.09\n",
      "iter=42300    b=9.31    w=0.2025    mse=18.09\n",
      "iter=42400    b=9.31    w=0.2025    mse=18.09\n",
      "iter=42500    b=9.31    w=0.2025    mse=18.09\n",
      "iter=42600    b=9.31    w=0.2025    mse=18.09\n",
      "iter=42700    b=9.31    w=0.2025    mse=18.09\n",
      "iter=42800    b=9.31    w=0.2025    mse=18.09\n",
      "iter=42900    b=9.31    w=0.2025    mse=18.09\n",
      "iter=43000    b=9.31    w=0.2025    mse=18.09\n",
      "iter=43100    b=9.31    w=0.2025    mse=18.09\n",
      "iter=43200    b=9.31    w=0.2025    mse=18.09\n",
      "iter=43300    b=9.31    w=0.2025    mse=18.09\n",
      "iter=43400    b=9.31    w=0.2025    mse=18.09\n",
      "iter=43500    b=9.31    w=0.2025    mse=18.09\n",
      "iter=43600    b=9.31    w=0.2025    mse=18.09\n",
      "iter=43700    b=9.31    w=0.2025    mse=18.09\n",
      "iter=43800    b=9.31    w=0.2025    mse=18.09\n",
      "iter=43900    b=9.31    w=0.2025    mse=18.09\n",
      "iter=44000    b=9.31    w=0.2025    mse=18.09\n",
      "iter=44100    b=9.31    w=0.2025    mse=18.09\n",
      "iter=44200    b=9.31    w=0.2025    mse=18.09\n",
      "iter=44300    b=9.31    w=0.2025    mse=18.09\n",
      "iter=44400    b=9.31    w=0.2025    mse=18.09\n",
      "iter=44500    b=9.31    w=0.2025    mse=18.09\n",
      "iter=44600    b=9.31    w=0.2025    mse=18.09\n",
      "iter=44700    b=9.31    w=0.2025    mse=18.09\n",
      "iter=44800    b=9.31    w=0.2025    mse=18.09\n",
      "iter=44900    b=9.31    w=0.2025    mse=18.09\n",
      "iter=45000    b=9.31    w=0.2025    mse=18.09\n",
      "iter=45100    b=9.31    w=0.2025    mse=18.09\n",
      "iter=45200    b=9.31    w=0.2025    mse=18.09\n",
      "iter=45300    b=9.31    w=0.2025    mse=18.09\n",
      "iter=45400    b=9.31    w=0.2025    mse=18.09\n",
      "iter=45500    b=9.31    w=0.2025    mse=18.09\n",
      "iter=45600    b=9.31    w=0.2025    mse=18.09\n",
      "iter=45700    b=9.31    w=0.2025    mse=18.09\n",
      "iter=45800    b=9.31    w=0.2025    mse=18.09\n",
      "iter=45900    b=9.31    w=0.2025    mse=18.09\n",
      "iter=46000    b=9.31    w=0.2025    mse=18.09\n",
      "iter=46100    b=9.31    w=0.2025    mse=18.09\n",
      "iter=46200    b=9.31    w=0.2025    mse=18.09\n",
      "iter=46300    b=9.31    w=0.2025    mse=18.09\n",
      "iter=46400    b=9.31    w=0.2025    mse=18.09\n",
      "iter=46500    b=9.31    w=0.2025    mse=18.09\n",
      "iter=46600    b=9.31    w=0.2025    mse=18.09\n",
      "iter=46700    b=9.31    w=0.2025    mse=18.09\n",
      "iter=46800    b=9.31    w=0.2025    mse=18.09\n",
      "iter=46900    b=9.31    w=0.2025    mse=18.09\n",
      "iter=47000    b=9.31    w=0.2025    mse=18.09\n",
      "iter=47100    b=9.31    w=0.2025    mse=18.09\n",
      "iter=47200    b=9.31    w=0.2025    mse=18.09\n",
      "iter=47300    b=9.31    w=0.2025    mse=18.09\n",
      "iter=47400    b=9.31    w=0.2025    mse=18.09\n",
      "iter=47500    b=9.31    w=0.2025    mse=18.09\n",
      "iter=47600    b=9.31    w=0.2025    mse=18.09\n",
      "iter=47700    b=9.31    w=0.2025    mse=18.09\n",
      "iter=47800    b=9.31    w=0.2025    mse=18.09\n",
      "iter=47900    b=9.31    w=0.2025    mse=18.09\n",
      "iter=48000    b=9.31    w=0.2025    mse=18.09\n",
      "iter=48100    b=9.31    w=0.2025    mse=18.09\n",
      "iter=48200    b=9.31    w=0.2025    mse=18.09\n",
      "iter=48300    b=9.31    w=0.2025    mse=18.09\n",
      "iter=48400    b=9.31    w=0.2025    mse=18.09\n",
      "iter=48500    b=9.31    w=0.2025    mse=18.09\n",
      "iter=48600    b=9.31    w=0.2025    mse=18.09\n",
      "iter=48700    b=9.31    w=0.2025    mse=18.09\n",
      "iter=48800    b=9.31    w=0.2025    mse=18.09\n",
      "iter=48900    b=9.31    w=0.2025    mse=18.09\n",
      "iter=49000    b=9.31    w=0.2025    mse=18.09\n",
      "iter=49100    b=9.31    w=0.2025    mse=18.09\n",
      "iter=49200    b=9.31    w=0.2025    mse=18.09\n",
      "iter=49300    b=9.31    w=0.2025    mse=18.09\n",
      "iter=49400    b=9.31    w=0.2025    mse=18.09\n",
      "iter=49500    b=9.31    w=0.2025    mse=18.09\n",
      "iter=49600    b=9.31    w=0.2025    mse=18.09\n",
      "iter=49700    b=9.31    w=0.2025    mse=18.09\n",
      "iter=49800    b=9.31    w=0.2025    mse=18.09\n",
      "iter=49900    b=9.31    w=0.2025    mse=18.09\n",
      "iter=50000    b=9.31    w=0.2025    mse=18.09\n",
      "iter=50100    b=9.31    w=0.2025    mse=18.09\n",
      "iter=50200    b=9.31    w=0.2025    mse=18.09\n",
      "iter=50300    b=9.31    w=0.2025    mse=18.09\n",
      "iter=50400    b=9.31    w=0.2025    mse=18.09\n",
      "iter=50500    b=9.31    w=0.2025    mse=18.09\n",
      "iter=50600    b=9.31    w=0.2025    mse=18.09\n",
      "iter=50700    b=9.31    w=0.2025    mse=18.09\n",
      "iter=50800    b=9.31    w=0.2025    mse=18.09\n",
      "iter=50900    b=9.31    w=0.2025    mse=18.09\n",
      "iter=51000    b=9.31    w=0.2025    mse=18.09\n",
      "iter=51100    b=9.31    w=0.2025    mse=18.09\n",
      "iter=51200    b=9.31    w=0.2025    mse=18.09\n",
      "iter=51300    b=9.31    w=0.2025    mse=18.09\n",
      "iter=51400    b=9.31    w=0.2025    mse=18.09\n",
      "iter=51500    b=9.31    w=0.2025    mse=18.09\n",
      "iter=51600    b=9.31    w=0.2025    mse=18.09\n",
      "iter=51700    b=9.31    w=0.2025    mse=18.09\n",
      "iter=51800    b=9.31    w=0.2025    mse=18.09\n",
      "iter=51900    b=9.31    w=0.2025    mse=18.09\n",
      "iter=52000    b=9.31    w=0.2025    mse=18.09\n",
      "iter=52100    b=9.31    w=0.2025    mse=18.09\n",
      "iter=52200    b=9.31    w=0.2025    mse=18.09\n",
      "iter=52300    b=9.31    w=0.2025    mse=18.09\n",
      "iter=52400    b=9.31    w=0.2025    mse=18.09\n",
      "iter=52500    b=9.31    w=0.2025    mse=18.09\n",
      "iter=52600    b=9.31    w=0.2025    mse=18.09\n",
      "iter=52700    b=9.31    w=0.2025    mse=18.09\n",
      "iter=52800    b=9.31    w=0.2025    mse=18.09\n",
      "iter=52900    b=9.31    w=0.2025    mse=18.09\n",
      "iter=53000    b=9.31    w=0.2025    mse=18.09\n",
      "iter=53100    b=9.31    w=0.2025    mse=18.09\n",
      "iter=53200    b=9.31    w=0.2025    mse=18.09\n",
      "iter=53300    b=9.31    w=0.2025    mse=18.09\n",
      "iter=53400    b=9.31    w=0.2025    mse=18.09\n",
      "iter=53500    b=9.31    w=0.2025    mse=18.09\n",
      "iter=53600    b=9.31    w=0.2025    mse=18.09\n",
      "iter=53700    b=9.31    w=0.2025    mse=18.09\n",
      "iter=53800    b=9.31    w=0.2025    mse=18.09\n",
      "iter=53900    b=9.31    w=0.2025    mse=18.09\n",
      "iter=54000    b=9.31    w=0.2025    mse=18.09\n",
      "iter=54100    b=9.31    w=0.2025    mse=18.09\n",
      "iter=54200    b=9.31    w=0.2025    mse=18.09\n",
      "iter=54300    b=9.31    w=0.2025    mse=18.09\n",
      "iter=54400    b=9.31    w=0.2025    mse=18.09\n",
      "iter=54500    b=9.31    w=0.2025    mse=18.09\n",
      "iter=54600    b=9.31    w=0.2025    mse=18.09\n",
      "iter=54700    b=9.31    w=0.2025    mse=18.09\n",
      "iter=54800    b=9.31    w=0.2025    mse=18.09\n",
      "iter=54900    b=9.31    w=0.2025    mse=18.09\n",
      "iter=55000    b=9.31    w=0.2025    mse=18.09\n",
      "iter=55100    b=9.31    w=0.2025    mse=18.09\n",
      "iter=55200    b=9.31    w=0.2025    mse=18.09\n",
      "iter=55300    b=9.31    w=0.2025    mse=18.09\n",
      "iter=55400    b=9.31    w=0.2025    mse=18.09\n",
      "iter=55500    b=9.31    w=0.2025    mse=18.09\n",
      "iter=55600    b=9.31    w=0.2025    mse=18.09\n",
      "iter=55700    b=9.31    w=0.2025    mse=18.09\n",
      "iter=55800    b=9.31    w=0.2025    mse=18.09\n",
      "iter=55900    b=9.31    w=0.2025    mse=18.09\n",
      "iter=56000    b=9.31    w=0.2025    mse=18.09\n",
      "iter=56100    b=9.31    w=0.2025    mse=18.09\n",
      "iter=56200    b=9.31    w=0.2025    mse=18.09\n",
      "iter=56300    b=9.31    w=0.2025    mse=18.09\n",
      "iter=56400    b=9.31    w=0.2025    mse=18.09\n",
      "iter=56500    b=9.31    w=0.2025    mse=18.09\n",
      "iter=56600    b=9.31    w=0.2025    mse=18.09\n",
      "iter=56700    b=9.31    w=0.2025    mse=18.09\n",
      "iter=56800    b=9.31    w=0.2025    mse=18.09\n",
      "iter=56900    b=9.31    w=0.2025    mse=18.09\n",
      "iter=57000    b=9.31    w=0.2025    mse=18.09\n",
      "iter=57100    b=9.31    w=0.2025    mse=18.09\n",
      "iter=57200    b=9.31    w=0.2025    mse=18.09\n",
      "iter=57300    b=9.31    w=0.2025    mse=18.09\n",
      "iter=57400    b=9.31    w=0.2025    mse=18.09\n",
      "iter=57500    b=9.31    w=0.2025    mse=18.09\n",
      "iter=57600    b=9.31    w=0.2025    mse=18.09\n",
      "iter=57700    b=9.31    w=0.2025    mse=18.09\n",
      "iter=57800    b=9.31    w=0.2025    mse=18.09\n",
      "iter=57900    b=9.31    w=0.2025    mse=18.09\n",
      "iter=58000    b=9.31    w=0.2025    mse=18.09\n",
      "iter=58100    b=9.31    w=0.2025    mse=18.09\n",
      "iter=58200    b=9.31    w=0.2025    mse=18.09\n",
      "iter=58300    b=9.31    w=0.2025    mse=18.09\n",
      "iter=58400    b=9.31    w=0.2025    mse=18.09\n",
      "iter=58500    b=9.31    w=0.2025    mse=18.09\n",
      "iter=58600    b=9.31    w=0.2025    mse=18.09\n",
      "iter=58700    b=9.31    w=0.2025    mse=18.09\n",
      "iter=58800    b=9.31    w=0.2025    mse=18.09\n",
      "iter=58900    b=9.31    w=0.2025    mse=18.09\n",
      "iter=59000    b=9.31    w=0.2025    mse=18.09\n",
      "iter=59100    b=9.31    w=0.2025    mse=18.09\n",
      "iter=59200    b=9.31    w=0.2025    mse=18.09\n",
      "iter=59300    b=9.31    w=0.2025    mse=18.09\n",
      "iter=59400    b=9.31    w=0.2025    mse=18.09\n",
      "iter=59500    b=9.31    w=0.2025    mse=18.09\n",
      "iter=59600    b=9.31    w=0.2025    mse=18.09\n",
      "iter=59700    b=9.31    w=0.2025    mse=18.09\n",
      "iter=59800    b=9.31    w=0.2025    mse=18.09\n",
      "iter=59900    b=9.31    w=0.2025    mse=18.09\n",
      "iter=60000    b=9.31    w=0.2025    mse=18.09\n",
      "iter=60100    b=9.31    w=0.2025    mse=18.09\n",
      "iter=60200    b=9.31    w=0.2025    mse=18.09\n",
      "iter=60300    b=9.31    w=0.2025    mse=18.09\n",
      "iter=60400    b=9.31    w=0.2025    mse=18.09\n",
      "iter=60500    b=9.31    w=0.2025    mse=18.09\n",
      "iter=60600    b=9.31    w=0.2025    mse=18.09\n",
      "iter=60700    b=9.31    w=0.2025    mse=18.09\n",
      "iter=60800    b=9.31    w=0.2025    mse=18.09\n",
      "iter=60900    b=9.31    w=0.2025    mse=18.09\n",
      "iter=61000    b=9.31    w=0.2025    mse=18.09\n",
      "iter=61100    b=9.31    w=0.2025    mse=18.09\n",
      "iter=61200    b=9.31    w=0.2025    mse=18.09\n",
      "iter=61300    b=9.31    w=0.2025    mse=18.09\n",
      "iter=61400    b=9.31    w=0.2025    mse=18.09\n",
      "iter=61500    b=9.31    w=0.2025    mse=18.09\n",
      "iter=61600    b=9.31    w=0.2025    mse=18.09\n",
      "iter=61700    b=9.31    w=0.2025    mse=18.09\n",
      "iter=61800    b=9.31    w=0.2025    mse=18.09\n",
      "iter=61900    b=9.31    w=0.2025    mse=18.09\n",
      "iter=62000    b=9.31    w=0.2025    mse=18.09\n",
      "iter=62100    b=9.31    w=0.2025    mse=18.09\n",
      "iter=62200    b=9.31    w=0.2025    mse=18.09\n",
      "iter=62300    b=9.31    w=0.2025    mse=18.09\n",
      "iter=62400    b=9.31    w=0.2025    mse=18.09\n",
      "iter=62500    b=9.31    w=0.2025    mse=18.09\n",
      "iter=62600    b=9.31    w=0.2025    mse=18.09\n",
      "iter=62700    b=9.31    w=0.2025    mse=18.09\n",
      "iter=62800    b=9.31    w=0.2025    mse=18.09\n",
      "iter=62900    b=9.31    w=0.2025    mse=18.09\n",
      "iter=63000    b=9.31    w=0.2025    mse=18.09\n",
      "iter=63100    b=9.31    w=0.2025    mse=18.09\n",
      "iter=63200    b=9.31    w=0.2025    mse=18.09\n",
      "iter=63300    b=9.31    w=0.2025    mse=18.09\n",
      "iter=63400    b=9.31    w=0.2025    mse=18.09\n",
      "iter=63500    b=9.31    w=0.2025    mse=18.09\n",
      "iter=63600    b=9.31    w=0.2025    mse=18.09\n",
      "iter=63700    b=9.31    w=0.2025    mse=18.09\n",
      "iter=63800    b=9.31    w=0.2025    mse=18.09\n",
      "iter=63900    b=9.31    w=0.2025    mse=18.09\n",
      "iter=64000    b=9.31    w=0.2025    mse=18.09\n",
      "iter=64100    b=9.31    w=0.2025    mse=18.09\n",
      "iter=64200    b=9.31    w=0.2025    mse=18.09\n",
      "iter=64300    b=9.31    w=0.2025    mse=18.09\n",
      "iter=64400    b=9.31    w=0.2025    mse=18.09\n",
      "iter=64500    b=9.31    w=0.2025    mse=18.09\n",
      "iter=64600    b=9.31    w=0.2025    mse=18.09\n",
      "iter=64700    b=9.31    w=0.2025    mse=18.09\n",
      "iter=64800    b=9.31    w=0.2025    mse=18.09\n",
      "iter=64900    b=9.31    w=0.2025    mse=18.09\n",
      "iter=65000    b=9.31    w=0.2025    mse=18.09\n",
      "iter=65100    b=9.31    w=0.2025    mse=18.09\n",
      "iter=65200    b=9.31    w=0.2025    mse=18.09\n",
      "iter=65300    b=9.31    w=0.2025    mse=18.09\n",
      "iter=65400    b=9.31    w=0.2025    mse=18.09\n",
      "iter=65500    b=9.31    w=0.2025    mse=18.09\n",
      "iter=65600    b=9.31    w=0.2025    mse=18.09\n",
      "iter=65700    b=9.31    w=0.2025    mse=18.09\n",
      "iter=65800    b=9.31    w=0.2025    mse=18.09\n",
      "iter=65900    b=9.31    w=0.2025    mse=18.09\n",
      "iter=66000    b=9.31    w=0.2025    mse=18.09\n",
      "iter=66100    b=9.31    w=0.2025    mse=18.09\n",
      "iter=66200    b=9.31    w=0.2025    mse=18.09\n",
      "iter=66300    b=9.31    w=0.2025    mse=18.09\n",
      "iter=66400    b=9.31    w=0.2025    mse=18.09\n",
      "iter=66500    b=9.31    w=0.2025    mse=18.09\n",
      "iter=66600    b=9.31    w=0.2025    mse=18.09\n",
      "iter=66700    b=9.31    w=0.2025    mse=18.09\n",
      "iter=66800    b=9.31    w=0.2025    mse=18.09\n",
      "iter=66900    b=9.31    w=0.2025    mse=18.09\n",
      "iter=67000    b=9.31    w=0.2025    mse=18.09\n",
      "iter=67100    b=9.31    w=0.2025    mse=18.09\n",
      "iter=67200    b=9.31    w=0.2025    mse=18.09\n",
      "iter=67300    b=9.31    w=0.2025    mse=18.09\n",
      "iter=67400    b=9.31    w=0.2025    mse=18.09\n",
      "iter=67500    b=9.31    w=0.2025    mse=18.09\n",
      "iter=67600    b=9.31    w=0.2025    mse=18.09\n",
      "iter=67700    b=9.31    w=0.2025    mse=18.09\n",
      "iter=67800    b=9.31    w=0.2025    mse=18.09\n",
      "iter=67900    b=9.31    w=0.2025    mse=18.09\n",
      "iter=68000    b=9.31    w=0.2025    mse=18.09\n",
      "iter=68100    b=9.31    w=0.2025    mse=18.09\n",
      "iter=68200    b=9.31    w=0.2025    mse=18.09\n",
      "iter=68300    b=9.31    w=0.2025    mse=18.09\n",
      "iter=68400    b=9.31    w=0.2025    mse=18.09\n",
      "iter=68500    b=9.31    w=0.2025    mse=18.09\n",
      "iter=68600    b=9.31    w=0.2025    mse=18.09\n",
      "iter=68700    b=9.31    w=0.2025    mse=18.09\n",
      "iter=68800    b=9.31    w=0.2025    mse=18.09\n",
      "iter=68900    b=9.31    w=0.2025    mse=18.09\n",
      "iter=69000    b=9.31    w=0.2025    mse=18.09\n",
      "iter=69100    b=9.31    w=0.2025    mse=18.09\n",
      "iter=69200    b=9.31    w=0.2025    mse=18.09\n",
      "iter=69300    b=9.31    w=0.2025    mse=18.09\n",
      "iter=69400    b=9.31    w=0.2025    mse=18.09\n",
      "iter=69500    b=9.31    w=0.2025    mse=18.09\n",
      "iter=69600    b=9.31    w=0.2025    mse=18.09\n",
      "iter=69700    b=9.31    w=0.2025    mse=18.09\n",
      "iter=69800    b=9.31    w=0.2025    mse=18.09\n",
      "iter=69900    b=9.31    w=0.2025    mse=18.09\n",
      "iter=70000    b=9.31    w=0.2025    mse=18.09\n",
      "iter=70100    b=9.31    w=0.2025    mse=18.09\n",
      "iter=70200    b=9.31    w=0.2025    mse=18.09\n",
      "iter=70300    b=9.31    w=0.2025    mse=18.09\n",
      "iter=70400    b=9.31    w=0.2025    mse=18.09\n",
      "iter=70500    b=9.31    w=0.2025    mse=18.09\n",
      "iter=70600    b=9.31    w=0.2025    mse=18.09\n",
      "iter=70700    b=9.31    w=0.2025    mse=18.09\n",
      "iter=70800    b=9.31    w=0.2025    mse=18.09\n",
      "iter=70900    b=9.31    w=0.2025    mse=18.09\n",
      "iter=71000    b=9.31    w=0.2025    mse=18.09\n",
      "iter=71100    b=9.31    w=0.2025    mse=18.09\n",
      "iter=71200    b=9.31    w=0.2025    mse=18.09\n",
      "iter=71300    b=9.31    w=0.2025    mse=18.09\n",
      "iter=71400    b=9.31    w=0.2025    mse=18.09\n",
      "iter=71500    b=9.31    w=0.2025    mse=18.09\n",
      "iter=71600    b=9.31    w=0.2025    mse=18.09\n",
      "iter=71700    b=9.31    w=0.2025    mse=18.09\n",
      "iter=71800    b=9.31    w=0.2025    mse=18.09\n",
      "iter=71900    b=9.31    w=0.2025    mse=18.09\n",
      "iter=72000    b=9.31    w=0.2025    mse=18.09\n",
      "iter=72100    b=9.31    w=0.2025    mse=18.09\n",
      "iter=72200    b=9.31    w=0.2025    mse=18.09\n",
      "iter=72300    b=9.31    w=0.2025    mse=18.09\n",
      "iter=72400    b=9.31    w=0.2025    mse=18.09\n",
      "iter=72500    b=9.31    w=0.2025    mse=18.09\n",
      "iter=72600    b=9.31    w=0.2025    mse=18.09\n",
      "iter=72700    b=9.31    w=0.2025    mse=18.09\n",
      "iter=72800    b=9.31    w=0.2025    mse=18.09\n",
      "iter=72900    b=9.31    w=0.2025    mse=18.09\n",
      "iter=73000    b=9.31    w=0.2025    mse=18.09\n",
      "iter=73100    b=9.31    w=0.2025    mse=18.09\n",
      "iter=73200    b=9.31    w=0.2025    mse=18.09\n",
      "iter=73300    b=9.31    w=0.2025    mse=18.09\n",
      "iter=73400    b=9.31    w=0.2025    mse=18.09\n",
      "iter=73500    b=9.31    w=0.2025    mse=18.09\n",
      "iter=73600    b=9.31    w=0.2025    mse=18.09\n",
      "iter=73700    b=9.31    w=0.2025    mse=18.09\n",
      "iter=73800    b=9.31    w=0.2025    mse=18.09\n",
      "iter=73900    b=9.31    w=0.2025    mse=18.09\n",
      "iter=74000    b=9.31    w=0.2025    mse=18.09\n",
      "iter=74100    b=9.31    w=0.2025    mse=18.09\n",
      "iter=74200    b=9.31    w=0.2025    mse=18.09\n",
      "iter=74300    b=9.31    w=0.2025    mse=18.09\n",
      "iter=74400    b=9.31    w=0.2025    mse=18.09\n",
      "iter=74500    b=9.31    w=0.2025    mse=18.09\n",
      "iter=74600    b=9.31    w=0.2025    mse=18.09\n",
      "iter=74700    b=9.31    w=0.2025    mse=18.09\n",
      "iter=74800    b=9.31    w=0.2025    mse=18.09\n",
      "iter=74900    b=9.31    w=0.2025    mse=18.09\n",
      "iter=75000    b=9.31    w=0.2025    mse=18.09\n",
      "iter=75100    b=9.31    w=0.2025    mse=18.09\n",
      "iter=75200    b=9.31    w=0.2025    mse=18.09\n",
      "iter=75300    b=9.31    w=0.2025    mse=18.09\n",
      "iter=75400    b=9.31    w=0.2025    mse=18.09\n",
      "iter=75500    b=9.31    w=0.2025    mse=18.09\n",
      "iter=75600    b=9.31    w=0.2025    mse=18.09\n",
      "iter=75700    b=9.31    w=0.2025    mse=18.09\n",
      "iter=75800    b=9.31    w=0.2025    mse=18.09\n",
      "iter=75900    b=9.31    w=0.2025    mse=18.09\n",
      "iter=76000    b=9.31    w=0.2025    mse=18.09\n",
      "iter=76100    b=9.31    w=0.2025    mse=18.09\n",
      "iter=76200    b=9.31    w=0.2025    mse=18.09\n",
      "iter=76300    b=9.31    w=0.2025    mse=18.09\n",
      "iter=76400    b=9.31    w=0.2025    mse=18.09\n",
      "iter=76500    b=9.31    w=0.2025    mse=18.09\n",
      "iter=76600    b=9.31    w=0.2025    mse=18.09\n",
      "iter=76700    b=9.31    w=0.2025    mse=18.09\n",
      "iter=76800    b=9.31    w=0.2025    mse=18.09\n",
      "iter=76900    b=9.31    w=0.2025    mse=18.09\n",
      "iter=77000    b=9.31    w=0.2025    mse=18.09\n",
      "iter=77100    b=9.31    w=0.2025    mse=18.09\n",
      "iter=77200    b=9.31    w=0.2025    mse=18.09\n",
      "iter=77300    b=9.31    w=0.2025    mse=18.09\n",
      "iter=77400    b=9.31    w=0.2025    mse=18.09\n",
      "iter=77500    b=9.31    w=0.2025    mse=18.09\n",
      "iter=77600    b=9.31    w=0.2025    mse=18.09\n",
      "iter=77700    b=9.31    w=0.2025    mse=18.09\n",
      "iter=77800    b=9.31    w=0.2025    mse=18.09\n",
      "iter=77900    b=9.31    w=0.2025    mse=18.09\n",
      "iter=78000    b=9.31    w=0.2025    mse=18.09\n",
      "iter=78100    b=9.31    w=0.2025    mse=18.09\n",
      "iter=78200    b=9.31    w=0.2025    mse=18.09\n",
      "iter=78300    b=9.31    w=0.2025    mse=18.09\n",
      "iter=78400    b=9.31    w=0.2025    mse=18.09\n",
      "iter=78500    b=9.31    w=0.2025    mse=18.09\n",
      "iter=78600    b=9.31    w=0.2025    mse=18.09\n",
      "iter=78700    b=9.31    w=0.2025    mse=18.09\n",
      "iter=78800    b=9.31    w=0.2025    mse=18.09\n",
      "iter=78900    b=9.31    w=0.2025    mse=18.09\n",
      "iter=79000    b=9.31    w=0.2025    mse=18.09\n",
      "iter=79100    b=9.31    w=0.2025    mse=18.09\n",
      "iter=79200    b=9.31    w=0.2025    mse=18.09\n",
      "iter=79300    b=9.31    w=0.2025    mse=18.09\n",
      "iter=79400    b=9.31    w=0.2025    mse=18.09\n",
      "iter=79500    b=9.31    w=0.2025    mse=18.09\n",
      "iter=79600    b=9.31    w=0.2025    mse=18.09\n",
      "iter=79700    b=9.31    w=0.2025    mse=18.09\n",
      "iter=79800    b=9.31    w=0.2025    mse=18.09\n",
      "iter=79900    b=9.31    w=0.2025    mse=18.09\n",
      "iter=80000    b=9.31    w=0.2025    mse=18.09\n",
      "iter=80100    b=9.31    w=0.2025    mse=18.09\n",
      "iter=80200    b=9.31    w=0.2025    mse=18.09\n",
      "iter=80300    b=9.31    w=0.2025    mse=18.09\n",
      "iter=80400    b=9.31    w=0.2025    mse=18.09\n",
      "iter=80500    b=9.31    w=0.2025    mse=18.09\n",
      "iter=80600    b=9.31    w=0.2025    mse=18.09\n",
      "iter=80700    b=9.31    w=0.2025    mse=18.09\n",
      "iter=80800    b=9.31    w=0.2025    mse=18.09\n",
      "iter=80900    b=9.31    w=0.2025    mse=18.09\n",
      "iter=81000    b=9.31    w=0.2025    mse=18.09\n",
      "iter=81100    b=9.31    w=0.2025    mse=18.09\n",
      "iter=81200    b=9.31    w=0.2025    mse=18.09\n",
      "iter=81300    b=9.31    w=0.2025    mse=18.09\n",
      "iter=81400    b=9.31    w=0.2025    mse=18.09\n",
      "iter=81500    b=9.31    w=0.2025    mse=18.09\n",
      "iter=81600    b=9.31    w=0.2025    mse=18.09\n",
      "iter=81700    b=9.31    w=0.2025    mse=18.09\n",
      "iter=81800    b=9.31    w=0.2025    mse=18.09\n",
      "iter=81900    b=9.31    w=0.2025    mse=18.09\n",
      "iter=82000    b=9.31    w=0.2025    mse=18.09\n",
      "iter=82100    b=9.31    w=0.2025    mse=18.09\n",
      "iter=82200    b=9.31    w=0.2025    mse=18.09\n",
      "iter=82300    b=9.31    w=0.2025    mse=18.09\n",
      "iter=82400    b=9.31    w=0.2025    mse=18.09\n",
      "iter=82500    b=9.31    w=0.2025    mse=18.09\n",
      "iter=82600    b=9.31    w=0.2025    mse=18.09\n",
      "iter=82700    b=9.31    w=0.2025    mse=18.09\n",
      "iter=82800    b=9.31    w=0.2025    mse=18.09\n",
      "iter=82900    b=9.31    w=0.2025    mse=18.09\n",
      "iter=83000    b=9.31    w=0.2025    mse=18.09\n",
      "iter=83100    b=9.31    w=0.2025    mse=18.09\n",
      "iter=83200    b=9.31    w=0.2025    mse=18.09\n",
      "iter=83300    b=9.31    w=0.2025    mse=18.09\n",
      "iter=83400    b=9.31    w=0.2025    mse=18.09\n",
      "iter=83500    b=9.31    w=0.2025    mse=18.09\n",
      "iter=83600    b=9.31    w=0.2025    mse=18.09\n",
      "iter=83700    b=9.31    w=0.2025    mse=18.09\n",
      "iter=83800    b=9.31    w=0.2025    mse=18.09\n",
      "iter=83900    b=9.31    w=0.2025    mse=18.09\n",
      "iter=84000    b=9.31    w=0.2025    mse=18.09\n",
      "iter=84100    b=9.31    w=0.2025    mse=18.09\n",
      "iter=84200    b=9.31    w=0.2025    mse=18.09\n",
      "iter=84300    b=9.31    w=0.2025    mse=18.09\n",
      "iter=84400    b=9.31    w=0.2025    mse=18.09\n",
      "iter=84500    b=9.31    w=0.2025    mse=18.09\n",
      "iter=84600    b=9.31    w=0.2025    mse=18.09\n",
      "iter=84700    b=9.31    w=0.2025    mse=18.09\n",
      "iter=84800    b=9.31    w=0.2025    mse=18.09\n",
      "iter=84900    b=9.31    w=0.2025    mse=18.09\n",
      "iter=85000    b=9.31    w=0.2025    mse=18.09\n",
      "iter=85100    b=9.31    w=0.2025    mse=18.09\n",
      "iter=85200    b=9.31    w=0.2025    mse=18.09\n",
      "iter=85300    b=9.31    w=0.2025    mse=18.09\n",
      "iter=85400    b=9.31    w=0.2025    mse=18.09\n",
      "iter=85500    b=9.31    w=0.2025    mse=18.09\n",
      "iter=85600    b=9.31    w=0.2025    mse=18.09\n",
      "iter=85700    b=9.31    w=0.2025    mse=18.09\n",
      "iter=85800    b=9.31    w=0.2025    mse=18.09\n",
      "iter=85900    b=9.31    w=0.2025    mse=18.09\n",
      "iter=86000    b=9.31    w=0.2025    mse=18.09\n",
      "iter=86100    b=9.31    w=0.2025    mse=18.09\n",
      "iter=86200    b=9.31    w=0.2025    mse=18.09\n",
      "iter=86300    b=9.31    w=0.2025    mse=18.09\n",
      "iter=86400    b=9.31    w=0.2025    mse=18.09\n",
      "iter=86500    b=9.31    w=0.2025    mse=18.09\n",
      "iter=86600    b=9.31    w=0.2025    mse=18.09\n",
      "iter=86700    b=9.31    w=0.2025    mse=18.09\n",
      "iter=86800    b=9.31    w=0.2025    mse=18.09\n",
      "iter=86900    b=9.31    w=0.2025    mse=18.09\n",
      "iter=87000    b=9.31    w=0.2025    mse=18.09\n",
      "iter=87100    b=9.31    w=0.2025    mse=18.09\n",
      "iter=87200    b=9.31    w=0.2025    mse=18.09\n",
      "iter=87300    b=9.31    w=0.2025    mse=18.09\n",
      "iter=87400    b=9.31    w=0.2025    mse=18.09\n",
      "iter=87500    b=9.31    w=0.2025    mse=18.09\n",
      "iter=87600    b=9.31    w=0.2025    mse=18.09\n",
      "iter=87700    b=9.31    w=0.2025    mse=18.09\n",
      "iter=87800    b=9.31    w=0.2025    mse=18.09\n",
      "iter=87900    b=9.31    w=0.2025    mse=18.09\n",
      "iter=88000    b=9.31    w=0.2025    mse=18.09\n",
      "iter=88100    b=9.31    w=0.2025    mse=18.09\n",
      "iter=88200    b=9.31    w=0.2025    mse=18.09\n",
      "iter=88300    b=9.31    w=0.2025    mse=18.09\n",
      "iter=88400    b=9.31    w=0.2025    mse=18.09\n",
      "iter=88500    b=9.31    w=0.2025    mse=18.09\n",
      "iter=88600    b=9.31    w=0.2025    mse=18.09\n",
      "iter=88700    b=9.31    w=0.2025    mse=18.09\n",
      "iter=88800    b=9.31    w=0.2025    mse=18.09\n",
      "iter=88900    b=9.31    w=0.2025    mse=18.09\n",
      "iter=89000    b=9.31    w=0.2025    mse=18.09\n",
      "iter=89100    b=9.31    w=0.2025    mse=18.09\n",
      "iter=89200    b=9.31    w=0.2025    mse=18.09\n",
      "iter=89300    b=9.31    w=0.2025    mse=18.09\n",
      "iter=89400    b=9.31    w=0.2025    mse=18.09\n",
      "iter=89500    b=9.31    w=0.2025    mse=18.09\n",
      "iter=89600    b=9.31    w=0.2025    mse=18.09\n",
      "iter=89700    b=9.31    w=0.2025    mse=18.09\n",
      "iter=89800    b=9.31    w=0.2025    mse=18.09\n",
      "iter=89900    b=9.31    w=0.2025    mse=18.09\n",
      "iter=90000    b=9.31    w=0.2025    mse=18.09\n",
      "iter=90100    b=9.31    w=0.2025    mse=18.09\n",
      "iter=90200    b=9.31    w=0.2025    mse=18.09\n",
      "iter=90300    b=9.31    w=0.2025    mse=18.09\n",
      "iter=90400    b=9.31    w=0.2025    mse=18.09\n",
      "iter=90500    b=9.31    w=0.2025    mse=18.09\n",
      "iter=90600    b=9.31    w=0.2025    mse=18.09\n",
      "iter=90700    b=9.31    w=0.2025    mse=18.09\n",
      "iter=90800    b=9.31    w=0.2025    mse=18.09\n",
      "iter=90900    b=9.31    w=0.2025    mse=18.09\n",
      "iter=91000    b=9.31    w=0.2025    mse=18.09\n",
      "iter=91100    b=9.31    w=0.2025    mse=18.09\n",
      "iter=91200    b=9.31    w=0.2025    mse=18.09\n",
      "iter=91300    b=9.31    w=0.2025    mse=18.09\n",
      "iter=91400    b=9.31    w=0.2025    mse=18.09\n",
      "iter=91500    b=9.31    w=0.2025    mse=18.09\n",
      "iter=91600    b=9.31    w=0.2025    mse=18.09\n",
      "iter=91700    b=9.31    w=0.2025    mse=18.09\n",
      "iter=91800    b=9.31    w=0.2025    mse=18.09\n",
      "iter=91900    b=9.31    w=0.2025    mse=18.09\n",
      "iter=92000    b=9.31    w=0.2025    mse=18.09\n",
      "iter=92100    b=9.31    w=0.2025    mse=18.09\n",
      "iter=92200    b=9.31    w=0.2025    mse=18.09\n",
      "iter=92300    b=9.31    w=0.2025    mse=18.09\n",
      "iter=92400    b=9.31    w=0.2025    mse=18.09\n",
      "iter=92500    b=9.31    w=0.2025    mse=18.09\n",
      "iter=92600    b=9.31    w=0.2025    mse=18.09\n",
      "iter=92700    b=9.31    w=0.2025    mse=18.09\n",
      "iter=92800    b=9.31    w=0.2025    mse=18.09\n",
      "iter=92900    b=9.31    w=0.2025    mse=18.09\n",
      "iter=93000    b=9.31    w=0.2025    mse=18.09\n",
      "iter=93100    b=9.31    w=0.2025    mse=18.09\n",
      "iter=93200    b=9.31    w=0.2025    mse=18.09\n",
      "iter=93300    b=9.31    w=0.2025    mse=18.09\n",
      "iter=93400    b=9.31    w=0.2025    mse=18.09\n",
      "iter=93500    b=9.31    w=0.2025    mse=18.09\n",
      "iter=93600    b=9.31    w=0.2025    mse=18.09\n",
      "iter=93700    b=9.31    w=0.2025    mse=18.09\n",
      "iter=93800    b=9.31    w=0.2025    mse=18.09\n",
      "iter=93900    b=9.31    w=0.2025    mse=18.09\n",
      "iter=94000    b=9.31    w=0.2025    mse=18.09\n",
      "iter=94100    b=9.31    w=0.2025    mse=18.09\n",
      "iter=94200    b=9.31    w=0.2025    mse=18.09\n",
      "iter=94300    b=9.31    w=0.2025    mse=18.09\n",
      "iter=94400    b=9.31    w=0.2025    mse=18.09\n",
      "iter=94500    b=9.31    w=0.2025    mse=18.09\n",
      "iter=94600    b=9.31    w=0.2025    mse=18.09\n",
      "iter=94700    b=9.31    w=0.2025    mse=18.09\n",
      "iter=94800    b=9.31    w=0.2025    mse=18.09\n",
      "iter=94900    b=9.31    w=0.2025    mse=18.09\n",
      "iter=95000    b=9.31    w=0.2025    mse=18.09\n",
      "iter=95100    b=9.31    w=0.2025    mse=18.09\n",
      "iter=95200    b=9.31    w=0.2025    mse=18.09\n",
      "iter=95300    b=9.31    w=0.2025    mse=18.09\n",
      "iter=95400    b=9.31    w=0.2025    mse=18.09\n",
      "iter=95500    b=9.31    w=0.2025    mse=18.09\n",
      "iter=95600    b=9.31    w=0.2025    mse=18.09\n",
      "iter=95700    b=9.31    w=0.2025    mse=18.09\n",
      "iter=95800    b=9.31    w=0.2025    mse=18.09\n",
      "iter=95900    b=9.31    w=0.2025    mse=18.09\n",
      "iter=96000    b=9.31    w=0.2025    mse=18.09\n",
      "iter=96100    b=9.31    w=0.2025    mse=18.09\n",
      "iter=96200    b=9.31    w=0.2025    mse=18.09\n",
      "iter=96300    b=9.31    w=0.2025    mse=18.09\n",
      "iter=96400    b=9.31    w=0.2025    mse=18.09\n",
      "iter=96500    b=9.31    w=0.2025    mse=18.09\n",
      "iter=96600    b=9.31    w=0.2025    mse=18.09\n",
      "iter=96700    b=9.31    w=0.2025    mse=18.09\n",
      "iter=96800    b=9.31    w=0.2025    mse=18.09\n",
      "iter=96900    b=9.31    w=0.2025    mse=18.09\n",
      "iter=97000    b=9.31    w=0.2025    mse=18.09\n",
      "iter=97100    b=9.31    w=0.2025    mse=18.09\n",
      "iter=97200    b=9.31    w=0.2025    mse=18.09\n",
      "iter=97300    b=9.31    w=0.2025    mse=18.09\n",
      "iter=97400    b=9.31    w=0.2025    mse=18.09\n",
      "iter=97500    b=9.31    w=0.2025    mse=18.09\n",
      "iter=97600    b=9.31    w=0.2025    mse=18.09\n",
      "iter=97700    b=9.31    w=0.2025    mse=18.09\n",
      "iter=97800    b=9.31    w=0.2025    mse=18.09\n",
      "iter=97900    b=9.31    w=0.2025    mse=18.09\n",
      "iter=98000    b=9.31    w=0.2025    mse=18.09\n",
      "iter=98100    b=9.31    w=0.2025    mse=18.09\n",
      "iter=98200    b=9.31    w=0.2025    mse=18.09\n",
      "iter=98300    b=9.31    w=0.2025    mse=18.09\n",
      "iter=98400    b=9.31    w=0.2025    mse=18.09\n",
      "iter=98500    b=9.31    w=0.2025    mse=18.09\n",
      "iter=98600    b=9.31    w=0.2025    mse=18.09\n",
      "iter=98700    b=9.31    w=0.2025    mse=18.09\n",
      "iter=98800    b=9.31    w=0.2025    mse=18.09\n",
      "iter=98900    b=9.31    w=0.2025    mse=18.09\n",
      "iter=99000    b=9.31    w=0.2025    mse=18.09\n",
      "iter=99100    b=9.31    w=0.2025    mse=18.09\n",
      "iter=99200    b=9.31    w=0.2025    mse=18.09\n",
      "iter=99300    b=9.31    w=0.2025    mse=18.09\n",
      "iter=99400    b=9.31    w=0.2025    mse=18.09\n",
      "iter=99500    b=9.31    w=0.2025    mse=18.09\n",
      "iter=99600    b=9.31    w=0.2025    mse=18.09\n",
      "iter=99700    b=9.31    w=0.2025    mse=18.09\n",
      "iter=99800    b=9.31    w=0.2025    mse=18.09\n",
      "iter=99900    b=9.31    w=0.2025    mse=18.09\n",
      "After 100000 iterations b = 9.311638095155203, w = 0.2024957833925339, mse = 18.09239774512544\n"
     ]
    }
   ],
   "source": [
    "# hyperparameters\n",
    "learning_rate = 0.001\n",
    "initial_b = 0.001\n",
    "initial_w = 0.001\n",
    "num_iters = 100000\n",
    "\n",
    "cost_history, b, w = train(Y, initial_b, initial_w, X, learning_rate, num_iters)"
   ]
  }
 ],
 "metadata": {
  "kernelspec": {
   "display_name": "Python 3.9.13 ('dsprojects')",
   "language": "python",
   "name": "python3"
  },
  "language_info": {
   "codemirror_mode": {
    "name": "ipython",
    "version": 3
   },
   "file_extension": ".py",
   "mimetype": "text/x-python",
   "name": "python",
   "nbconvert_exporter": "python",
   "pygments_lexer": "ipython3",
   "version": "3.9.13"
  },
  "orig_nbformat": 4,
  "vscode": {
   "interpreter": {
    "hash": "78fd003daa28446435b2b6538571e501a8b37e58f7b5c6cbe8ad03b3dfc8ae3a"
   }
  }
 },
 "nbformat": 4,
 "nbformat_minor": 2
}
